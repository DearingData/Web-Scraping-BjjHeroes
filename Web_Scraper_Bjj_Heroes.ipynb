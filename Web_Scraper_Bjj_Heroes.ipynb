{
 "cells": [
  {
   "cell_type": "code",
   "execution_count": 2,
   "metadata": {},
   "outputs": [
    {
     "name": "stdout",
     "output_type": "stream",
     "text": [
      "<!doctype html>\n",
      "<head dir=\"ltr\" lang=\"en-US\" prefix=\"og: https://ogp.me/ns#\">\n",
      "\n",
      "<meta charset=\"UTF-8\">\n",
      "<meta http-equiv=\"X-UA-Compatible\" content=\"IE=edge,chrome=1\">\n",
      "<link href=\"//www.google-analytics.com\" rel=\"dns-prefetch\">\n",
      "<meta name=\"viewport\" content=\"width=device-width, initial-scale=1.0, user-scalable=yes\" />\n",
      "<link rel=\"pingback\" href=\"https://www.bjjheroes.com/xmlrpc.php\">\n",
      "<link rel=\"icon\" id=\"favicon\" type=\"image/png\" href=\"https://www.bjjheroes.com/wp-content/uploads/2020/03/favicon-16x\n"
     ]
    }
   ],
   "source": [
    "import requests\n",
    "import pandas as pd\n",
    "from bs4 import BeautifulSoup\n",
    "\n",
    "r = requests.get('https://www.bjjheroes.com/a-z-bjj-fighters-list')\n",
    "# print the first 500 characters of the HTML\n",
    "print(r.text[0:500])"
   ]
  },
  {
   "cell_type": "code",
   "execution_count": 3,
   "metadata": {},
   "outputs": [],
   "source": [
    "soup = BeautifulSoup(r.text, 'html.parser')"
   ]
  },
  {
   "cell_type": "markdown",
   "metadata": {},
   "source": [
    "# Method 1 to Tag html "
   ]
  },
  {
   "cell_type": "code",
   "execution_count": 4,
   "metadata": {},
   "outputs": [
    {
     "data": {
      "text/plain": [
       "<title>Competitor and Coach Database | BJJ Heroes</title>"
      ]
     },
     "execution_count": 4,
     "metadata": {},
     "output_type": "execute_result"
    }
   ],
   "source": [
    "tag = soup.title\n",
    "tag"
   ]
  },
  {
   "cell_type": "markdown",
   "metadata": {},
   "source": [
    "# Method 2 to Tag html"
   ]
  },
  {
   "cell_type": "code",
   "execution_count": 9,
   "metadata": {},
   "outputs": [
    {
     "name": "stdout",
     "output_type": "stream",
     "text": [
      "First 20 entries\n"
     ]
    },
    {
     "data": {
      "text/plain": [
       "[<td class=\"column-1\"><a href=\"/?p=8141\">Aarae</a> </td>,\n",
       " <td class=\"column-2\"><a href=\"/?p=8141\">Alexander</a></td>,\n",
       " <td class=\"column-3\"></td>,\n",
       " <td class=\"column-4\">Team Lloyd Irvin</td>,\n",
       " <td class=\"column-1\"><a href=\"/?p=9246\">Aaron</a> </td>,\n",
       " <td class=\"column-2\"><a href=\"/?p=9246\">Johnson</a> </td>,\n",
       " <td class=\"column-3\"><a href=\"/?p=9246\">Tex</a> </td>,\n",
       " <td class=\"column-4\">Unity JJ</td>,\n",
       " <td class=\"column-1\"><a href=\"/?p=8494\">Abdurakhman</a> </td>,\n",
       " <td class=\"column-2\"><a href=\"/?p=8494\">Bilarov</a> </td>]"
      ]
     },
     "execution_count": 9,
     "metadata": {},
     "output_type": "execute_result"
    }
   ],
   "source": [
    "tag = soup.find_all(\"td\")\n",
    "\n",
    "print('First 20 entries')\n",
    "tag[:10]"
   ]
  },
  {
   "cell_type": "markdown",
   "metadata": {},
   "source": [
    "# Storing Athlete information in a DataFrame"
   ]
  },
  {
   "cell_type": "code",
   "execution_count": 12,
   "metadata": {},
   "outputs": [
    {
     "name": "stdout",
     "output_type": "stream",
     "text": [
      "       First Name      Last Name  Nick Name               Team Athlete URL\n",
      "0           Aarae      Alexander              Team Lloyd Irvin    /?p=8141\n",
      "1           Aaron        Johnson        Tex           Unity JJ    /?p=9246\n",
      "2     Abdurakhman        Bilarov                 Team Nogueira    /?p=8494\n",
      "3           Abmar        Barbosa                                   /?p=390\n",
      "4         Abraham  Marte Messina             Yamasaki / Basico    /?p=3083\n",
      "...           ...            ...        ...                ...         ...\n",
      "1379       Valdir         Canuto  Tio Chico          Zenith JJ    /?p=7505\n",
      "1380      Nakapan    Phungephorn                  BETA Academy    /?p=7512\n",
      "1381        Eliot          Kelly                     Yemaso JJ    /?p=7519\n",
      "1382     Mauricio        Pereira   Mauricao         Behring JJ    /?p=7556\n",
      "1383     Vinicius         Garcia                                  /?p=7636\n",
      "\n",
      "[1384 rows x 5 columns]\n"
     ]
    }
   ],
   "source": [
    "# Find all table rows\n",
    "rows = soup.find_all(\"tr\")\n",
    "\n",
    "# empty list to store data\n",
    "data = []\n",
    "\n",
    "# Iterate over the rows and extract\n",
    "for row in rows:\n",
    "    columns = row.find_all(\"td\")\n",
    "    if len(columns) == 4:  # confirm the column count in the row\n",
    "        first_name_tag = columns[0].find(\"a\")\n",
    "        first_name = first_name_tag.text.strip() if first_name_tag else columns[0].text.strip()\n",
    "        first_name_url = first_name_tag['href'] if first_name_tag else None\n",
    "\n",
    "        last_name_tag = columns[1].find(\"a\")\n",
    "        last_name = last_name_tag.text.strip() if last_name_tag else columns[1].text.strip()\n",
    "        last_name_url = last_name_tag['href'] if last_name_tag else None\n",
    "\n",
    "        nick_name_tag = columns[2].find(\"a\")\n",
    "        nick_name = nick_name_tag.text.strip() if nick_name_tag else columns[2].text.strip()\n",
    "        nick_name_url = nick_name_tag['href'] if nick_name_tag else None\n",
    "\n",
    "        team_tag = columns[3].find(\"a\")\n",
    "        team = team_tag.text.strip() if team_tag else columns[3].text.strip()\n",
    "        team_url = team_tag['href'] if team_tag else None\n",
    "        \n",
    "        # Append data to list\n",
    "        data.append({\n",
    "            \"First Name\": first_name,\n",
    "            \"Last Name\": last_name,\n",
    "            \"Nick Name\": nick_name,\n",
    "            \"Team\": team,\n",
    "            \"Athlete URL\": first_name_url,\n",
    "        })\n",
    "\n",
    "# Convert to DataFrame\n",
    "df = pd.DataFrame(data)\n",
    "\n",
    "print(df)"
   ]
  },
  {
   "cell_type": "markdown",
   "metadata": {},
   "source": [
    "# Attempt to store a single Athlete data in a dataframe"
   ]
  },
  {
   "cell_type": "code",
   "execution_count": 17,
   "metadata": {},
   "outputs": [
    {
     "data": {
      "text/plain": [
       "[<tr>\n",
       " <th>ID</th>\n",
       " <th>Opponent</th>\n",
       " <th>W/L</th>\n",
       " <th>Method</th>\n",
       " <th>Competition</th>\n",
       " <th>Weight</th>\n",
       " <th>Stage</th>\n",
       " <th>Year</th>\n",
       " </tr>,\n",
       " <tr><td>4909</td><td class=\"sort\"><span>Alan Finfou</span><a href=\"/?p=289\">Alan Finfou</a></td><td style=\"color:#d91300;\">L</td><td>Referee Decision</td><td>European NoGi</td><td>ABS</td><td>SF</td><td>2013</td></tr>,\n",
       " <tr><td>4923</td><td class=\"sort\"><span>Claudio Mattos</span><a href=\"/?p=443\">Claudio Mattos</a></td><td style=\"color:#d91300;\">L</td><td>Adv</td><td>Rio Open</td><td>76KG</td><td>F</td><td>2013</td></tr>,\n",
       " <tr><td>4945</td><td class=\"sort\"><span>Vitor Oliveira</span><a href=\"/?p=2035\">Vitor Oliveira</a></td><td style=\"color:#d91300;\">L</td><td><a href=\"/?p=5463\">Armbar</a></td><td>American Nats</td><td>ABS</td><td>F</td><td>2013</td></tr>,\n",
       " <tr><td>4972</td><td class=\"sort\"><span>Murilo Santana</span><a href=\"/?p=484\">Murilo Santana</a></td><td style=\"color:#d91300;\">L</td><td>Choke</td><td>NoGi Pan Am.</td><td>ABS</td><td>SF</td><td>2013</td></tr>,\n",
       " <tr><td>5001</td><td class=\"sort\"><span>Leonardo Vieira</span><a href=\"/?p=419\">Leonardo Vieira</a></td><td style=\"color:#d91300;\">L</td><td>Referee Decision</td><td>ADCC</td><td>77KG</td><td>4F</td><td>2013</td></tr>,\n",
       " <tr><td>5078</td><td class=\"sort\"><span>Luiz Panza</span><a href=\"/?p=3122\">Luiz Panza</a></td><td style=\"color:#d91300;\">L</td><td><a href=\"/?p=5463\">Armbar</a></td><td>Brasileiro NoGi</td><td>ABS</td><td>F</td><td>2013</td></tr>,\n",
       " <tr><td>5105</td><td class=\"sort\"><span>Marcelo Mafra</span><a href=\"/?p=9706\">Marcelo Mafra</a></td><td style=\"color:#d91300;\">L</td><td>Referee Decision</td><td>NoGi Worlds</td><td>73KG</td><td>SF</td><td>2013</td></tr>,\n",
       " <tr><td>5121</td><td class=\"sort\"><span>Lucas Leite</span><a href=\"/?p=875\">Lucas Leite</a></td><td style=\"color:#d91300;\">L</td><td>Adv</td><td>NoGi Worlds</td><td>ABS</td><td>4F</td><td>2013</td></tr>,\n",
       " <tr><td>5160</td><td class=\"sort\"><span>Osvaldo Moizinho</span><a href=\"/?p=5414\">Osvaldo Moizinho</a></td><td style=\"color:#d91300;\">L</td><td>Adv</td><td>Las Vegas Open</td><td>76KG</td><td>SF</td><td>2013</td></tr>,\n",
       " <tr><td>5256</td><td class=\"sort\"><span>Francisco Iturralde</span><a href=\"/?p=6563\">Francisco Iturralde</a></td><td style=\"color:#d91300;\">L</td><td>Points</td><td>European</td><td>76KG</td><td>SF</td><td>2014</td></tr>,\n",
       " <tr><td>5300</td><td class=\"sort\"><span>James Puopolo</span><a href=\"/?p=1827\">James Puopolo</a></td><td style=\"color:#d91300;\">L</td><td><a href=\"/?p=6332\">Choke from back</a></td><td>Pan American</td><td>ABS</td><td>R2</td><td>2014</td></tr>,\n",
       " <tr><td>5483</td><td><span>Jonatas Novaes</span></td><td style=\"color:#d91300;\">L</td><td>DQ</td><td>Chicago SPONG</td><td>ABS</td><td>SF</td><td>2014</td></tr>,\n",
       " <tr><td>5510</td><td class=\"sort\"><span>Gianni Grippo</span><a href=\"/?p=4248\">Gianni Grippo</a></td><td style=\"color:#d91300;\">L</td><td>Pts: 4x0</td><td>NY Spring Open</td><td>ABS</td><td>F</td><td>2014</td></tr>,\n",
       " <tr><td>5546</td><td><span>Sandro Vieira</span></td><td style=\"color:#d91300;\">L</td><td>DQ</td><td>Brasileiro</td><td>76KG</td><td>4F</td><td>2014</td></tr>,\n",
       " <tr><td>5684</td><td class=\"sort\"><span>Gilbert Burns</span><a href=\"/?p=446\">Gilbert Burns</a></td><td style=\"color:#d91300;\">L</td><td>Points</td><td>ADCC Florida</td><td>77KG</td><td>SPF</td><td>2014</td></tr>,\n",
       " <tr><td>5700</td><td class=\"sort\"><span>Rodolfo Vieira</span><a href=\"/?p=247\">Rodolfo Vieira</a></td><td style=\"color:#d91300;\">L</td><td><a href=\"/?p=6332\">Choke from back</a></td><td>World Champ.</td><td>ABS</td><td>R2</td><td>2014</td></tr>,\n",
       " <tr><td>5785</td><td class=\"sort\"><span>Roberto Satoshi</span><a href=\"/?p=1824\">Roberto Satoshi</a></td><td style=\"color:#d91300;\">L</td><td><a href=\"/?p=6332\">Choke from back</a></td><td>World Champ.</td><td>76KG</td><td>8F</td><td>2014</td></tr>,\n",
       " <tr><td>5962</td><td class=\"sort\"><span>Josh Hinger</span><a href=\"/?p=7096\">Josh Hinger</a></td><td style=\"color:#d91300;\">L</td><td>Points</td><td>Am. Nat. NoGi</td><td>ABS</td><td>SF</td><td>2014</td></tr>,\n",
       " <tr><td>5973</td><td class=\"sort\"><span>Garry Tonon</span><a href=\"/?p=5649\">Garry Tonon</a></td><td style=\"color:#d91300;\">L</td><td><a href=\"/?p=4302\">RNC</a></td><td>No Gi Pan Am.</td><td>73KG</td><td>SF</td><td>2014</td></tr>]"
      ]
     },
     "execution_count": 17,
     "metadata": {},
     "output_type": "execute_result"
    }
   ],
   "source": [
    "url = 'https://www.bjjheroes.com/bjj-fighters/aj-agazarm'\n",
    "response = requests.get(url)\n",
    "soup = BeautifulSoup(response.text, 'html.parser')\n",
    "\n",
    "# Find all the table rows\n",
    "rows = soup.find_all(\"tr\")\n",
    "rows[:20]"
   ]
  },
  {
   "cell_type": "markdown",
   "metadata": {},
   "source": [
    "# Iterate through the DataFrame\n",
    "### Use Stored Athlete URL to scrape data from each athletes match results"
   ]
  },
  {
   "cell_type": "code",
   "execution_count": 13,
   "metadata": {},
   "outputs": [
    {
     "name": "stdout",
     "output_type": "stream",
     "text": [
      "                             Athlete URL       Opponent Name Result  \\\n",
      "0      https://www.bjjheroes.com/?p=9246  Quentin Rosensweig      L   \n",
      "1      https://www.bjjheroes.com/?p=9246       Neiman Gracie      L   \n",
      "2      https://www.bjjheroes.com/?p=9246     Richie Martinez      L   \n",
      "3      https://www.bjjheroes.com/?p=9246        Leo Nogueira      L   \n",
      "4      https://www.bjjheroes.com/?p=9246      Romulo Azevedo      L   \n",
      "...                                  ...                 ...    ...   \n",
      "50828  https://www.bjjheroes.com/?p=7636         Cody Heller      W   \n",
      "50829  https://www.bjjheroes.com/?p=7636      Daniel Olivier      W   \n",
      "50830  https://www.bjjheroes.com/?p=7636      Joshua Murdock      W   \n",
      "50831  https://www.bjjheroes.com/?p=7636       Kyle Raemisch      W   \n",
      "50832  https://www.bjjheroes.com/?p=7636        Kevin Vieira      W   \n",
      "\n",
      "                 Method             Event Weight Stage  Year  \n",
      "0      Inside heel hook          Kakuto 5    ABS   SPF  2015  \n",
      "1                   RNC      NoGi Pan Ams   94KG    SF  2015  \n",
      "2             Heel hook  Kakuto Challenge    ABS    SF  2015  \n",
      "3                Points   Atlanta W. Open   94KG    SF  2016  \n",
      "4                   N/A    UAEJJF NYC Pro   94KG    SF  2016  \n",
      "...                 ...               ...    ...   ...   ...  \n",
      "50828               N/A   Atlanta SM Open    ABS    4F  2019  \n",
      "50829       Canto choke  New Orleans Open   88KG    SF  2020  \n",
      "50830            Points  New Orleans Open    ABS    SF  2020  \n",
      "50831   Mounted X choke           F2W 153   85KG   SPF  2020  \n",
      "50832   Hashimoto choke      Pan American   82KG    8F  2020  \n",
      "\n",
      "[50833 rows x 8 columns]\n"
     ]
    }
   ],
   "source": [
    "\n",
    "\n",
    "# Function to append athlete url and extract data\n",
    "def extract_athlete_data(athlete_url):\n",
    "    full_url = f'https://www.bjjheroes.com{athlete_url}'\n",
    "    response = requests.get(full_url)\n",
    "    soup = BeautifulSoup(response.text, 'html.parser')\n",
    "    \n",
    "    # Find all table rows\n",
    "    rows = soup.find_all(\"tr\")\n",
    "\n",
    "    # Stores Data\n",
    "    data = []\n",
    "\n",
    "    # Iterate extract\n",
    "    for row in rows:\n",
    "        columns = row.find_all(\"td\")\n",
    "        if len(columns) == 8:  # confirm table column count\n",
    "            opponent_tag = columns[1].find(\"a\")\n",
    "            opponent_name = opponent_tag.text.strip() if opponent_tag else columns[1].text.strip()\n",
    "            result = columns[2].text.strip()\n",
    "            method_tag = columns[3].find(\"a\")\n",
    "            method = method_tag.text.strip() if method_tag else columns[3].text.strip()\n",
    "            event = columns[4].text.strip()\n",
    "            weight = columns[5].text.strip()\n",
    "            stage = columns[6].text.strip()\n",
    "            year = columns[7].text.strip()\n",
    "\n",
    "            # Append to list\n",
    "            data.append({\n",
    "                \"Athlete URL\": full_url,\n",
    "                \"Opponent Name\": opponent_name,\n",
    "                \"Result\": result,\n",
    "                \"Method\": method,\n",
    "                \"Event\": event,\n",
    "                \"Weight\": weight,\n",
    "                \"Stage\": stage,\n",
    "                \"Year\": year\n",
    "            })\n",
    "    return data\n",
    "\n",
    "\n",
    "# Store the final data\n",
    "all_data = []\n",
    "\n",
    "# Loop through each athlete in the initial DataFrame\n",
    "for index, row in df.iterrows():\n",
    "    athlete_url = row['Athlete URL']\n",
    "    athlete_data = extract_athlete_data(athlete_url)\n",
    "    all_data.extend(athlete_data)\n",
    "\n",
    "# Convert the list to DataFrame\n",
    "df_final = pd.DataFrame(all_data)\n",
    "\n",
    "print(df_final)\n"
   ]
  },
  {
   "cell_type": "markdown",
   "metadata": {},
   "source": [
    "# Extract URL to new column 'ID', then match first and last name to ID and replace the URL"
   ]
  },
  {
   "cell_type": "code",
   "execution_count": 34,
   "metadata": {},
   "outputs": [
    {
     "name": "stdout",
     "output_type": "stream",
     "text": [
      "      First Name Last Name       Opponent Name Result            Method  \\\n",
      "0          Aaron   Johnson  Quentin Rosensweig      L  Inside heel hook   \n",
      "1          Aaron   Johnson       Neiman Gracie      L               RNC   \n",
      "2          Aaron   Johnson     Richie Martinez      L         Heel hook   \n",
      "3          Aaron   Johnson        Leo Nogueira      L            Points   \n",
      "4          Aaron   Johnson      Romulo Azevedo      L               N/A   \n",
      "...          ...       ...                 ...    ...               ...   \n",
      "51294   Vinicius    Garcia         Cody Heller      W               N/A   \n",
      "51295   Vinicius    Garcia      Daniel Olivier      W       Canto choke   \n",
      "51296   Vinicius    Garcia      Joshua Murdock      W            Points   \n",
      "51297   Vinicius    Garcia       Kyle Raemisch      W   Mounted X choke   \n",
      "51298   Vinicius    Garcia        Kevin Vieira      W   Hashimoto choke   \n",
      "\n",
      "                  Event Weight Stage  Year  \n",
      "0              Kakuto 5    ABS   SPF  2015  \n",
      "1          NoGi Pan Ams   94KG    SF  2015  \n",
      "2      Kakuto Challenge    ABS    SF  2015  \n",
      "3       Atlanta W. Open   94KG    SF  2016  \n",
      "4        UAEJJF NYC Pro   94KG    SF  2016  \n",
      "...                 ...    ...   ...   ...  \n",
      "51294   Atlanta SM Open    ABS    4F  2019  \n",
      "51295  New Orleans Open   88KG    SF  2020  \n",
      "51296  New Orleans Open    ABS    SF  2020  \n",
      "51297           F2W 153   85KG   SPF  2020  \n",
      "51298      Pan American   82KG    8F  2020  \n",
      "\n",
      "[51299 rows x 9 columns]\n"
     ]
    }
   ],
   "source": [
    "df['ID'] = df['Athlete URL'].str.extract(r'\\?p=(\\d+)')\n",
    "df_final['ID'] = df_final['Athlete URL'].str.extract(r'\\?p=(\\d+)')\n",
    "\n",
    "df_merged = df_final.merge(df[['ID', 'First Name', 'Last Name']], on='ID', how='left')\n",
    "\n",
    "# Drop'Athlete URL' and 'ID'\n",
    "df_merged.drop(columns=[\"Athlete URL\", \"ID\"], inplace=True)\n",
    "\n",
    "# Place 'First Name' and 'Last Name' at the beginning\n",
    "df_merged = df_merged[[\"First Name\", \"Last Name\", \"Opponent Name\", \"Result\", \"Method\", \"Event\", \"Weight\", \"Stage\", \"Year\"]]\n",
    "\n",
    "# Final DataFrame\n",
    "print(df_merged)"
   ]
  },
  {
   "cell_type": "code",
   "execution_count": 16,
   "metadata": {},
   "outputs": [
    {
     "data": {
      "text/html": [
       "<div>\n",
       "<style scoped>\n",
       "    .dataframe tbody tr th:only-of-type {\n",
       "        vertical-align: middle;\n",
       "    }\n",
       "\n",
       "    .dataframe tbody tr th {\n",
       "        vertical-align: top;\n",
       "    }\n",
       "\n",
       "    .dataframe thead th {\n",
       "        text-align: right;\n",
       "    }\n",
       "</style>\n",
       "<table border=\"1\" class=\"dataframe\">\n",
       "  <thead>\n",
       "    <tr style=\"text-align: right;\">\n",
       "      <th></th>\n",
       "      <th>First Name</th>\n",
       "      <th>Last Name</th>\n",
       "      <th>Opponent Name</th>\n",
       "      <th>Result</th>\n",
       "      <th>Method</th>\n",
       "      <th>Event</th>\n",
       "      <th>Weight</th>\n",
       "      <th>Stage</th>\n",
       "      <th>Year</th>\n",
       "    </tr>\n",
       "  </thead>\n",
       "  <tbody>\n",
       "    <tr>\n",
       "      <th>0</th>\n",
       "      <td>Aaron</td>\n",
       "      <td>Johnson</td>\n",
       "      <td>Quentin Rosensweig</td>\n",
       "      <td>L</td>\n",
       "      <td>Inside heel hook</td>\n",
       "      <td>Kakuto 5</td>\n",
       "      <td>ABS</td>\n",
       "      <td>SPF</td>\n",
       "      <td>2015</td>\n",
       "    </tr>\n",
       "    <tr>\n",
       "      <th>1</th>\n",
       "      <td>Aaron</td>\n",
       "      <td>Johnson</td>\n",
       "      <td>Neiman Gracie</td>\n",
       "      <td>L</td>\n",
       "      <td>RNC</td>\n",
       "      <td>NoGi Pan Ams</td>\n",
       "      <td>94KG</td>\n",
       "      <td>SF</td>\n",
       "      <td>2015</td>\n",
       "    </tr>\n",
       "    <tr>\n",
       "      <th>2</th>\n",
       "      <td>Aaron</td>\n",
       "      <td>Johnson</td>\n",
       "      <td>Richie Martinez</td>\n",
       "      <td>L</td>\n",
       "      <td>Heel hook</td>\n",
       "      <td>Kakuto Challenge</td>\n",
       "      <td>ABS</td>\n",
       "      <td>SF</td>\n",
       "      <td>2015</td>\n",
       "    </tr>\n",
       "    <tr>\n",
       "      <th>3</th>\n",
       "      <td>Aaron</td>\n",
       "      <td>Johnson</td>\n",
       "      <td>Leo Nogueira</td>\n",
       "      <td>L</td>\n",
       "      <td>Points</td>\n",
       "      <td>Atlanta W. Open</td>\n",
       "      <td>94KG</td>\n",
       "      <td>SF</td>\n",
       "      <td>2016</td>\n",
       "    </tr>\n",
       "    <tr>\n",
       "      <th>4</th>\n",
       "      <td>Aaron</td>\n",
       "      <td>Johnson</td>\n",
       "      <td>Romulo Azevedo</td>\n",
       "      <td>L</td>\n",
       "      <td>N/A</td>\n",
       "      <td>UAEJJF NYC Pro</td>\n",
       "      <td>94KG</td>\n",
       "      <td>SF</td>\n",
       "      <td>2016</td>\n",
       "    </tr>\n",
       "  </tbody>\n",
       "</table>\n",
       "</div>"
      ],
      "text/plain": [
       "  First Name Last Name       Opponent Name Result            Method  \\\n",
       "0      Aaron   Johnson  Quentin Rosensweig      L  Inside heel hook   \n",
       "1      Aaron   Johnson       Neiman Gracie      L               RNC   \n",
       "2      Aaron   Johnson     Richie Martinez      L         Heel hook   \n",
       "3      Aaron   Johnson        Leo Nogueira      L            Points   \n",
       "4      Aaron   Johnson      Romulo Azevedo      L               N/A   \n",
       "\n",
       "              Event Weight Stage  Year  \n",
       "0          Kakuto 5    ABS   SPF  2015  \n",
       "1      NoGi Pan Ams   94KG    SF  2015  \n",
       "2  Kakuto Challenge    ABS    SF  2015  \n",
       "3   Atlanta W. Open   94KG    SF  2016  \n",
       "4    UAEJJF NYC Pro   94KG    SF  2016  "
      ]
     },
     "execution_count": 16,
     "metadata": {},
     "output_type": "execute_result"
    }
   ],
   "source": [
    "df_merged"
   ]
  }
 ],
 "metadata": {
  "kernelspec": {
   "display_name": "Python 3",
   "language": "python",
   "name": "python3"
  },
  "language_info": {
   "codemirror_mode": {
    "name": "ipython",
    "version": 3
   },
   "file_extension": ".py",
   "mimetype": "text/x-python",
   "name": "python",
   "nbconvert_exporter": "python",
   "pygments_lexer": "ipython3",
   "version": "3.11.0"
  }
 },
 "nbformat": 4,
 "nbformat_minor": 2
}
